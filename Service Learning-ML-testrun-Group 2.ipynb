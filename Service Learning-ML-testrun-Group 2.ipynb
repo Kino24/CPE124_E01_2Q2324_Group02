{
 "cells": [
  {
   "cell_type": "code",
   "execution_count": 1,
   "metadata": {},
   "outputs": [
    {
     "name": "stdout",
     "output_type": "stream",
     "text": [
      "WARNING:tensorflow:From C:\\Users\\migue\\AppData\\Roaming\\Python\\Python311\\site-packages\\keras\\src\\losses.py:2976: The name tf.losses.sparse_softmax_cross_entropy is deprecated. Please use tf.compat.v1.losses.sparse_softmax_cross_entropy instead.\n",
      "\n",
      "2.15.0\n"
     ]
    }
   ],
   "source": [
    "from keras.preprocessing.image import ImageDataGenerator\n",
    "import keras\n",
    "from keras.models import Sequential\n",
    "from keras.layers import Input, Dense\n",
    "from keras.applications import ResNet50\n",
    "from keras.applications.resnet50 import preprocess_input\n",
    "import os\n",
    "print(keras.__version__)"
   ]
  },
  {
   "cell_type": "code",
   "execution_count": 2,
   "metadata": {},
   "outputs": [
    {
     "data": {
      "text/plain": [
       "''"
      ]
     },
     "execution_count": 2,
     "metadata": {},
     "output_type": "execute_result"
    }
   ],
   "source": [
    "num_classes = 8\n",
    "\n",
    "image_resize = 224\n",
    "\n",
    "batch_size_training = 5\n",
    "batch_size_validation = 5\n",
    "script_dir = os.path.dirname('experiment.ipynb')\n",
    "script_dir"
   ]
  },
  {
   "cell_type": "code",
   "execution_count": 3,
   "metadata": {},
   "outputs": [],
   "source": [
    "data_generator = ImageDataGenerator(\n",
    "    preprocessing_function=preprocess_input,\n",
    ")"
   ]
  },
  {
   "cell_type": "code",
   "execution_count": 5,
   "metadata": {},
   "outputs": [
    {
     "name": "stdout",
     "output_type": "stream",
     "text": [
      "Found 924 images belonging to 8 classes.\n"
     ]
    }
   ],
   "source": [
    "train_generator = data_generator.flow_from_directory(\n",
    "    './skin-disease-datasaet/train_set',\n",
    "    target_size=(image_resize, image_resize),\n",
    "    batch_size=batch_size_training,\n",
    "    class_mode='categorical')"
   ]
  },
  {
   "cell_type": "code",
   "execution_count": 6,
   "metadata": {},
   "outputs": [
    {
     "name": "stdout",
     "output_type": "stream",
     "text": [
      "Found 233 images belonging to 8 classes.\n"
     ]
    }
   ],
   "source": [
    "validation_generator = data_generator.flow_from_directory(\n",
    "    './skin-disease-datasaet/test_set/',\n",
    "    target_size=(image_resize, image_resize),\n",
    "    batch_size=batch_size_validation,\n",
    "    class_mode='categorical')"
   ]
  },
  {
   "cell_type": "code",
   "execution_count": 7,
   "metadata": {},
   "outputs": [
    {
     "name": "stdout",
     "output_type": "stream",
     "text": [
      "WARNING:tensorflow:From C:\\Users\\migue\\AppData\\Roaming\\Python\\Python311\\site-packages\\keras\\src\\backend.py:873: The name tf.get_default_graph is deprecated. Please use tf.compat.v1.get_default_graph instead.\n",
      "\n",
      "WARNING:tensorflow:From C:\\Users\\migue\\AppData\\Roaming\\Python\\Python311\\site-packages\\keras\\src\\layers\\normalization\\batch_normalization.py:979: The name tf.nn.fused_batch_norm is deprecated. Please use tf.compat.v1.nn.fused_batch_norm instead.\n",
      "\n",
      "Downloading data from https://storage.googleapis.com/tensorflow/keras-applications/resnet/resnet50_weights_tf_dim_ordering_tf_kernels_notop.h5\n",
      "94765736/94765736 [==============================] - 4s 0us/step\n"
     ]
    }
   ],
   "source": [
    "model=Sequential()\n",
    "model.add(ResNet50(include_top=False,pooling='avg',weights='imagenet'))"
   ]
  },
  {
   "cell_type": "code",
   "execution_count": 8,
   "metadata": {},
   "outputs": [
    {
     "data": {
      "text/plain": [
       "[<keras.src.engine.functional.Functional at 0x22cd959c390>,\n",
       " <keras.src.layers.core.dense.Dense at 0x22cd953e210>]"
      ]
     },
     "execution_count": 8,
     "metadata": {},
     "output_type": "execute_result"
    }
   ],
   "source": [
    "model.add(Dense(num_classes, activation='softmax'))\n",
    "model.layers"
   ]
  },
  {
   "cell_type": "code",
   "execution_count": 9,
   "metadata": {},
   "outputs": [
    {
     "data": {
      "text/plain": [
       "[<keras.src.engine.input_layer.InputLayer at 0x22cd4ceeb10>,\n",
       " <keras.src.layers.reshaping.zero_padding2d.ZeroPadding2D at 0x22cd7120090>,\n",
       " <keras.src.layers.convolutional.conv2d.Conv2D at 0x22cd7873410>,\n",
       " <keras.src.layers.normalization.batch_normalization.BatchNormalization at 0x22cd6b06710>,\n",
       " <keras.src.layers.core.activation.Activation at 0x22cd711b4d0>,\n",
       " <keras.src.layers.reshaping.zero_padding2d.ZeroPadding2D at 0x22cd4ceef90>,\n",
       " <keras.src.layers.pooling.max_pooling2d.MaxPooling2D at 0x22cd8077c90>,\n",
       " <keras.src.layers.convolutional.conv2d.Conv2D at 0x22cd8234690>,\n",
       " <keras.src.layers.normalization.batch_normalization.BatchNormalization at 0x22cd81f5950>,\n",
       " <keras.src.layers.core.activation.Activation at 0x22cd828fb50>,\n",
       " <keras.src.layers.convolutional.conv2d.Conv2D at 0x22cd82a1b90>,\n",
       " <keras.src.layers.normalization.batch_normalization.BatchNormalization at 0x22cd6c94bd0>,\n",
       " <keras.src.layers.core.activation.Activation at 0x22cd711e190>,\n",
       " <keras.src.layers.convolutional.conv2d.Conv2D at 0x22cd7fec310>,\n",
       " <keras.src.layers.convolutional.conv2d.Conv2D at 0x22cd82b10d0>,\n",
       " <keras.src.layers.normalization.batch_normalization.BatchNormalization at 0x22cd80632d0>,\n",
       " <keras.src.layers.normalization.batch_normalization.BatchNormalization at 0x22cd81f54d0>,\n",
       " <keras.src.layers.merging.add.Add at 0x22cd806da50>,\n",
       " <keras.src.layers.core.activation.Activation at 0x22cd81f7310>,\n",
       " <keras.src.layers.convolutional.conv2d.Conv2D at 0x22cd80608d0>,\n",
       " <keras.src.layers.normalization.batch_normalization.BatchNormalization at 0x22cd81e0210>,\n",
       " <keras.src.layers.core.activation.Activation at 0x22cd806d8d0>,\n",
       " <keras.src.layers.convolutional.conv2d.Conv2D at 0x22cd8299a90>,\n",
       " <keras.src.layers.normalization.batch_normalization.BatchNormalization at 0x22cd711a990>,\n",
       " <keras.src.layers.core.activation.Activation at 0x22cd8299ad0>,\n",
       " <keras.src.layers.convolutional.conv2d.Conv2D at 0x22cd82cd510>,\n",
       " <keras.src.layers.normalization.batch_normalization.BatchNormalization at 0x22cd82cc050>,\n",
       " <keras.src.layers.merging.add.Add at 0x22cd7b61d10>,\n",
       " <keras.src.layers.core.activation.Activation at 0x22cd82cd5d0>,\n",
       " <keras.src.layers.convolutional.conv2d.Conv2D at 0x22cd82cf5d0>,\n",
       " <keras.src.layers.normalization.batch_normalization.BatchNormalization at 0x22cd4cef250>,\n",
       " <keras.src.layers.core.activation.Activation at 0x22cd828dad0>,\n",
       " <keras.src.layers.convolutional.conv2d.Conv2D at 0x22cd711bf10>,\n",
       " <keras.src.layers.normalization.batch_normalization.BatchNormalization at 0x22cd806e750>,\n",
       " <keras.src.layers.core.activation.Activation at 0x22cd7b62290>,\n",
       " <keras.src.layers.convolutional.conv2d.Conv2D at 0x22cd82e25d0>,\n",
       " <keras.src.layers.normalization.batch_normalization.BatchNormalization at 0x22cd8298950>,\n",
       " <keras.src.layers.merging.add.Add at 0x22cd828fbd0>,\n",
       " <keras.src.layers.core.activation.Activation at 0x22cd82f2f10>,\n",
       " <keras.src.layers.convolutional.conv2d.Conv2D at 0x22cd82f5c50>,\n",
       " <keras.src.layers.normalization.batch_normalization.BatchNormalization at 0x22cd81f6d50>,\n",
       " <keras.src.layers.core.activation.Activation at 0x22cd71195d0>,\n",
       " <keras.src.layers.convolutional.conv2d.Conv2D at 0x22cd94f3790>,\n",
       " <keras.src.layers.normalization.batch_normalization.BatchNormalization at 0x22cd8076350>,\n",
       " <keras.src.layers.core.activation.Activation at 0x22cd8000c90>,\n",
       " <keras.src.layers.convolutional.conv2d.Conv2D at 0x22cd82f7550>,\n",
       " <keras.src.layers.convolutional.conv2d.Conv2D at 0x22cd830fc50>,\n",
       " <keras.src.layers.normalization.batch_normalization.BatchNormalization at 0x22cd82f7390>,\n",
       " <keras.src.layers.normalization.batch_normalization.BatchNormalization at 0x22cd7fe6610>,\n",
       " <keras.src.layers.merging.add.Add at 0x22cd82cfe10>,\n",
       " <keras.src.layers.core.activation.Activation at 0x22cd679dfd0>,\n",
       " <keras.src.layers.convolutional.conv2d.Conv2D at 0x22cd9517490>,\n",
       " <keras.src.layers.normalization.batch_normalization.BatchNormalization at 0x22cd8236310>,\n",
       " <keras.src.layers.core.activation.Activation at 0x22cd95077d0>,\n",
       " <keras.src.layers.convolutional.conv2d.Conv2D at 0x22cd951f810>,\n",
       " <keras.src.layers.normalization.batch_normalization.BatchNormalization at 0x22cd82b0390>,\n",
       " <keras.src.layers.core.activation.Activation at 0x22cd9507b50>,\n",
       " <keras.src.layers.convolutional.conv2d.Conv2D at 0x22cd952bd50>,\n",
       " <keras.src.layers.normalization.batch_normalization.BatchNormalization at 0x22cd82f3710>,\n",
       " <keras.src.layers.merging.add.Add at 0x22cd7fef150>,\n",
       " <keras.src.layers.core.activation.Activation at 0x22cd952c690>,\n",
       " <keras.src.layers.convolutional.conv2d.Conv2D at 0x22cd953ef10>,\n",
       " <keras.src.layers.normalization.batch_normalization.BatchNormalization at 0x22cd953ff90>,\n",
       " <keras.src.layers.core.activation.Activation at 0x22cd953fa50>,\n",
       " <keras.src.layers.convolutional.conv2d.Conv2D at 0x22cd952cf50>,\n",
       " <keras.src.layers.normalization.batch_normalization.BatchNormalization at 0x22cd952e250>,\n",
       " <keras.src.layers.core.activation.Activation at 0x22cd8041450>,\n",
       " <keras.src.layers.convolutional.conv2d.Conv2D at 0x22cd8009950>,\n",
       " <keras.src.layers.normalization.batch_normalization.BatchNormalization at 0x22cd8009cd0>,\n",
       " <keras.src.layers.merging.add.Add at 0x22cd8008c50>,\n",
       " <keras.src.layers.core.activation.Activation at 0x22cd800aa90>,\n",
       " <keras.src.layers.convolutional.conv2d.Conv2D at 0x22cd8058850>,\n",
       " <keras.src.layers.normalization.batch_normalization.BatchNormalization at 0x22cd952f5d0>,\n",
       " <keras.src.layers.core.activation.Activation at 0x22cd952f690>,\n",
       " <keras.src.layers.convolutional.conv2d.Conv2D at 0x22cd803ec10>,\n",
       " <keras.src.layers.normalization.batch_normalization.BatchNormalization at 0x22cd80089d0>,\n",
       " <keras.src.layers.core.activation.Activation at 0x22cd803c2d0>,\n",
       " <keras.src.layers.convolutional.conv2d.Conv2D at 0x22cd8000a50>,\n",
       " <keras.src.layers.normalization.batch_normalization.BatchNormalization at 0x22cd7fe6310>,\n",
       " <keras.src.layers.merging.add.Add at 0x22cd7fe69d0>,\n",
       " <keras.src.layers.core.activation.Activation at 0x22cd951d450>,\n",
       " <keras.src.layers.convolutional.conv2d.Conv2D at 0x22cd6c8a050>,\n",
       " <keras.src.layers.normalization.batch_normalization.BatchNormalization at 0x22cd951f490>,\n",
       " <keras.src.layers.core.activation.Activation at 0x22cd77d1010>,\n",
       " <keras.src.layers.convolutional.conv2d.Conv2D at 0x22cd6c89810>,\n",
       " <keras.src.layers.normalization.batch_normalization.BatchNormalization at 0x22cd80282d0>,\n",
       " <keras.src.layers.core.activation.Activation at 0x22cd830d4d0>,\n",
       " <keras.src.layers.convolutional.conv2d.Conv2D at 0x22cd6c8b110>,\n",
       " <keras.src.layers.convolutional.conv2d.Conv2D at 0x22cd94f00d0>,\n",
       " <keras.src.layers.normalization.batch_normalization.BatchNormalization at 0x22cd6c8c810>,\n",
       " <keras.src.layers.normalization.batch_normalization.BatchNormalization at 0x22cd9504c50>,\n",
       " <keras.src.layers.merging.add.Add at 0x22cd951e390>,\n",
       " <keras.src.layers.core.activation.Activation at 0x22cd94f1b50>,\n",
       " <keras.src.layers.convolutional.conv2d.Conv2D at 0x22cd802f850>,\n",
       " <keras.src.layers.normalization.batch_normalization.BatchNormalization at 0x22cd806f790>,\n",
       " <keras.src.layers.core.activation.Activation at 0x22cd806f590>,\n",
       " <keras.src.layers.convolutional.conv2d.Conv2D at 0x22cd7fecb90>,\n",
       " <keras.src.layers.normalization.batch_normalization.BatchNormalization at 0x22cd82f0310>,\n",
       " <keras.src.layers.core.activation.Activation at 0x22cd6c7f790>,\n",
       " <keras.src.layers.convolutional.conv2d.Conv2D at 0x22cd82366d0>,\n",
       " <keras.src.layers.normalization.batch_normalization.BatchNormalization at 0x22cd80166d0>,\n",
       " <keras.src.layers.merging.add.Add at 0x22cd7fec210>,\n",
       " <keras.src.layers.core.activation.Activation at 0x22cd7ff3a50>,\n",
       " <keras.src.layers.convolutional.conv2d.Conv2D at 0x22cd6c88e10>,\n",
       " <keras.src.layers.normalization.batch_normalization.BatchNormalization at 0x22cd81f7750>,\n",
       " <keras.src.layers.core.activation.Activation at 0x22cd81f6a90>,\n",
       " <keras.src.layers.convolutional.conv2d.Conv2D at 0x22cd7fed190>,\n",
       " <keras.src.layers.normalization.batch_normalization.BatchNormalization at 0x22cd82e29d0>,\n",
       " <keras.src.layers.core.activation.Activation at 0x22cd80172d0>,\n",
       " <keras.src.layers.convolutional.conv2d.Conv2D at 0x22cd802c850>,\n",
       " <keras.src.layers.normalization.batch_normalization.BatchNormalization at 0x22cd95060d0>,\n",
       " <keras.src.layers.merging.add.Add at 0x22cd6c7df50>,\n",
       " <keras.src.layers.core.activation.Activation at 0x22cd9515750>,\n",
       " <keras.src.layers.convolutional.conv2d.Conv2D at 0x22cd952e090>,\n",
       " <keras.src.layers.normalization.batch_normalization.BatchNormalization at 0x22cd7fe7990>,\n",
       " <keras.src.layers.core.activation.Activation at 0x22cd829a090>,\n",
       " <keras.src.layers.convolutional.conv2d.Conv2D at 0x22cd82b1b50>,\n",
       " <keras.src.layers.normalization.batch_normalization.BatchNormalization at 0x22cd82f4b10>,\n",
       " <keras.src.layers.core.activation.Activation at 0x22cd82bfcd0>,\n",
       " <keras.src.layers.convolutional.conv2d.Conv2D at 0x22cd9547390>,\n",
       " <keras.src.layers.normalization.batch_normalization.BatchNormalization at 0x22cd9546890>,\n",
       " <keras.src.layers.merging.add.Add at 0x22cd9544f10>,\n",
       " <keras.src.layers.core.activation.Activation at 0x22cd9558f10>,\n",
       " <keras.src.layers.convolutional.conv2d.Conv2D at 0x22cd952fc10>,\n",
       " <keras.src.layers.normalization.batch_normalization.BatchNormalization at 0x22cd955b710>,\n",
       " <keras.src.layers.core.activation.Activation at 0x22cd955bd10>,\n",
       " <keras.src.layers.convolutional.conv2d.Conv2D at 0x22cd95830d0>,\n",
       " <keras.src.layers.normalization.batch_normalization.BatchNormalization at 0x22cd828ec10>,\n",
       " <keras.src.layers.core.activation.Activation at 0x22cd80637d0>,\n",
       " <keras.src.layers.convolutional.conv2d.Conv2D at 0x22cd957fa10>,\n",
       " <keras.src.layers.normalization.batch_normalization.BatchNormalization at 0x22cd957efd0>,\n",
       " <keras.src.layers.merging.add.Add at 0x22cd9583810>,\n",
       " <keras.src.layers.core.activation.Activation at 0x22cd958cc90>,\n",
       " <keras.src.layers.convolutional.conv2d.Conv2D at 0x22cd95927d0>,\n",
       " <keras.src.layers.normalization.batch_normalization.BatchNormalization at 0x22cd9569a10>,\n",
       " <keras.src.layers.core.activation.Activation at 0x22cd958d1d0>,\n",
       " <keras.src.layers.convolutional.conv2d.Conv2D at 0x22cd959e450>,\n",
       " <keras.src.layers.normalization.batch_normalization.BatchNormalization at 0x22cd9580310>,\n",
       " <keras.src.layers.core.activation.Activation at 0x22cd959c950>,\n",
       " <keras.src.layers.convolutional.conv2d.Conv2D at 0x22cd95a7390>,\n",
       " <keras.src.layers.normalization.batch_normalization.BatchNormalization at 0x22cd95a69d0>,\n",
       " <keras.src.layers.merging.add.Add at 0x22cd95a5f50>,\n",
       " <keras.src.layers.core.activation.Activation at 0x22cd95a8610>,\n",
       " <keras.src.layers.convolutional.conv2d.Conv2D at 0x22cd95a8250>,\n",
       " <keras.src.layers.normalization.batch_normalization.BatchNormalization at 0x22cd958d590>,\n",
       " <keras.src.layers.core.activation.Activation at 0x22cd958f990>,\n",
       " <keras.src.layers.convolutional.conv2d.Conv2D at 0x22cd959f450>,\n",
       " <keras.src.layers.normalization.batch_normalization.BatchNormalization at 0x22cd9590c50>,\n",
       " <keras.src.layers.core.activation.Activation at 0x22cd9516050>,\n",
       " <keras.src.layers.convolutional.conv2d.Conv2D at 0x22cd95b5f50>,\n",
       " <keras.src.layers.convolutional.conv2d.Conv2D at 0x22cd77d1750>,\n",
       " <keras.src.layers.normalization.batch_normalization.BatchNormalization at 0x22cd95aac90>,\n",
       " <keras.src.layers.normalization.batch_normalization.BatchNormalization at 0x22cd82f4390>,\n",
       " <keras.src.layers.merging.add.Add at 0x22cd803c550>,\n",
       " <keras.src.layers.core.activation.Activation at 0x22cd95a7490>,\n",
       " <keras.src.layers.convolutional.conv2d.Conv2D at 0x22cd9590a90>,\n",
       " <keras.src.layers.normalization.batch_normalization.BatchNormalization at 0x22cd8074810>,\n",
       " <keras.src.layers.core.activation.Activation at 0x22cd952f510>,\n",
       " <keras.src.layers.convolutional.conv2d.Conv2D at 0x22cd95cbe50>,\n",
       " <keras.src.layers.normalization.batch_normalization.BatchNormalization at 0x22cd95cabd0>,\n",
       " <keras.src.layers.core.activation.Activation at 0x22cd95a5450>,\n",
       " <keras.src.layers.convolutional.conv2d.Conv2D at 0x22cd95d3990>,\n",
       " <keras.src.layers.normalization.batch_normalization.BatchNormalization at 0x22cd95d0b90>,\n",
       " <keras.src.layers.merging.add.Add at 0x22cd95d3b90>,\n",
       " <keras.src.layers.core.activation.Activation at 0x22cd95e2110>,\n",
       " <keras.src.layers.convolutional.conv2d.Conv2D at 0x22cd959fc50>,\n",
       " <keras.src.layers.normalization.batch_normalization.BatchNormalization at 0x22cd95e5350>,\n",
       " <keras.src.layers.core.activation.Activation at 0x22cd95e4510>,\n",
       " <keras.src.layers.convolutional.conv2d.Conv2D at 0x22ce2543d10>,\n",
       " <keras.src.layers.normalization.batch_normalization.BatchNormalization at 0x22cd95e7050>,\n",
       " <keras.src.layers.core.activation.Activation at 0x22ce2543290>,\n",
       " <keras.src.layers.convolutional.conv2d.Conv2D at 0x22ce2549110>,\n",
       " <keras.src.layers.normalization.batch_normalization.BatchNormalization at 0x22ce2541b50>,\n",
       " <keras.src.layers.merging.add.Add at 0x22ce2549090>,\n",
       " <keras.src.layers.core.activation.Activation at 0x22ce25512d0>,\n",
       " <keras.src.layers.pooling.global_average_pooling2d.GlobalAveragePooling2D at 0x22ce254b710>]"
      ]
     },
     "execution_count": 9,
     "metadata": {},
     "output_type": "execute_result"
    }
   ],
   "source": [
    "model.layers[0].layers"
   ]
  },
  {
   "cell_type": "code",
   "execution_count": 10,
   "metadata": {},
   "outputs": [],
   "source": [
    "model.layers[0].trainable = False"
   ]
  },
  {
   "cell_type": "code",
   "execution_count": 11,
   "metadata": {},
   "outputs": [
    {
     "name": "stdout",
     "output_type": "stream",
     "text": [
      "Model: \"sequential\"\n",
      "_________________________________________________________________\n",
      " Layer (type)                Output Shape              Param #   \n",
      "=================================================================\n",
      " resnet50 (Functional)       (None, 2048)              23587712  \n",
      "                                                                 \n",
      " dense (Dense)               (None, 8)                 16392     \n",
      "                                                                 \n",
      "=================================================================\n",
      "Total params: 23604104 (90.04 MB)\n",
      "Trainable params: 16392 (64.03 KB)\n",
      "Non-trainable params: 23587712 (89.98 MB)\n",
      "_________________________________________________________________\n"
     ]
    }
   ],
   "source": [
    "model.summary()"
   ]
  },
  {
   "cell_type": "code",
   "execution_count": 12,
   "metadata": {},
   "outputs": [
    {
     "name": "stdout",
     "output_type": "stream",
     "text": [
      "WARNING:tensorflow:From C:\\Users\\migue\\AppData\\Roaming\\Python\\Python311\\site-packages\\keras\\src\\optimizers\\__init__.py:309: The name tf.train.Optimizer is deprecated. Please use tf.compat.v1.train.Optimizer instead.\n",
      "\n"
     ]
    }
   ],
   "source": [
    "model.compile(optimizer='adam', loss='categorical_crossentropy', metrics=['accuracy'])"
   ]
  },
  {
   "cell_type": "code",
   "execution_count": 13,
   "metadata": {},
   "outputs": [
    {
     "name": "stdout",
     "output_type": "stream",
     "text": [
      "60\n"
     ]
    }
   ],
   "source": [
    "steps_per_epoch_training = 60\n",
    "steps_per_epoch_validation = 60\n",
    "num_epochs = 20\n",
    "print (steps_per_epoch_validation)"
   ]
  },
  {
   "cell_type": "code",
   "execution_count": 14,
   "metadata": {},
   "outputs": [
    {
     "name": "stdout",
     "output_type": "stream",
     "text": [
      "Epoch 1/20\n",
      "WARNING:tensorflow:From C:\\Users\\migue\\AppData\\Roaming\\Python\\Python311\\site-packages\\keras\\src\\utils\\tf_utils.py:492: The name tf.ragged.RaggedTensorValue is deprecated. Please use tf.compat.v1.ragged.RaggedTensorValue instead.\n",
      "\n",
      "WARNING:tensorflow:From C:\\Users\\migue\\AppData\\Roaming\\Python\\Python311\\site-packages\\keras\\src\\engine\\base_layer_utils.py:384: The name tf.executing_eagerly_outside_functions is deprecated. Please use tf.compat.v1.executing_eagerly_outside_functions instead.\n",
      "\n",
      "60/60 [==============================] - ETA: 0s - loss: 1.3598 - accuracy: 0.5433WARNING:tensorflow:Your input ran out of data; interrupting training. Make sure that your dataset or generator can generate at least `steps_per_epoch * epochs` batches (in this case, 60 batches). You may need to use the repeat() function when building your dataset.\n",
      "60/60 [==============================] - 20s 301ms/step - loss: 1.3598 - accuracy: 0.5433 - val_loss: 0.7650 - val_accuracy: 0.7597\n",
      "Epoch 2/20\n",
      "60/60 [==============================] - 10s 163ms/step - loss: 0.4656 - accuracy: 0.8867\n",
      "Epoch 3/20\n",
      "60/60 [==============================] - 10s 161ms/step - loss: 0.2698 - accuracy: 0.9367\n",
      "Epoch 4/20\n",
      "60/60 [==============================] - 10s 163ms/step - loss: 0.1903 - accuracy: 0.9567\n",
      "Epoch 5/20\n",
      "60/60 [==============================] - 10s 163ms/step - loss: 0.1159 - accuracy: 0.9833\n",
      "Epoch 6/20\n",
      "60/60 [==============================] - 10s 163ms/step - loss: 0.1125 - accuracy: 0.9732\n",
      "Epoch 7/20\n",
      "60/60 [==============================] - 10s 159ms/step - loss: 0.0879 - accuracy: 0.9867\n",
      "Epoch 8/20\n",
      "60/60 [==============================] - 10s 160ms/step - loss: 0.0582 - accuracy: 0.9967\n",
      "Epoch 9/20\n",
      "60/60 [==============================] - 10s 158ms/step - loss: 0.0761 - accuracy: 0.9867\n",
      "Epoch 10/20\n",
      "60/60 [==============================] - 9s 156ms/step - loss: 0.0500 - accuracy: 0.9933\n",
      "Epoch 11/20\n",
      "60/60 [==============================] - 10s 159ms/step - loss: 0.0423 - accuracy: 0.9933\n",
      "Epoch 12/20\n",
      "60/60 [==============================] - 10s 159ms/step - loss: 0.0303 - accuracy: 0.9967\n",
      "Epoch 13/20\n",
      "60/60 [==============================] - 9s 158ms/step - loss: 0.0294 - accuracy: 0.9967\n",
      "Epoch 14/20\n",
      "60/60 [==============================] - 10s 158ms/step - loss: 0.0298 - accuracy: 0.9967\n",
      "Epoch 15/20\n",
      "60/60 [==============================] - 10s 163ms/step - loss: 0.0215 - accuracy: 1.0000\n",
      "Epoch 16/20\n",
      "60/60 [==============================] - 9s 157ms/step - loss: 0.0196 - accuracy: 1.0000\n",
      "Epoch 17/20\n",
      "60/60 [==============================] - 9s 157ms/step - loss: 0.0137 - accuracy: 1.0000\n",
      "Epoch 18/20\n",
      "60/60 [==============================] - 10s 160ms/step - loss: 0.0148 - accuracy: 1.0000\n",
      "Epoch 19/20\n",
      "60/60 [==============================] - 10s 159ms/step - loss: 0.0134 - accuracy: 1.0000\n",
      "Epoch 20/20\n",
      "60/60 [==============================] - 9s 157ms/step - loss: 0.0107 - accuracy: 1.0000\n"
     ]
    }
   ],
   "source": [
    "fit_history = model.fit(\n",
    "    train_generator,\n",
    "    steps_per_epoch=steps_per_epoch_training,\n",
    "    epochs=num_epochs,\n",
    "    validation_data=validation_generator,\n",
    "    validation_steps=steps_per_epoch_validation,\n",
    "    verbose=1,\n",
    ")"
   ]
  },
  {
   "cell_type": "code",
   "execution_count": 15,
   "metadata": {},
   "outputs": [
    {
     "name": "stderr",
     "output_type": "stream",
     "text": [
      "C:\\Users\\migue\\AppData\\Roaming\\Python\\Python311\\site-packages\\keras\\src\\engine\\training.py:3103: UserWarning: You are saving your model as an HDF5 file via `model.save()`. This file format is considered legacy. We recommend using instead the native Keras format, e.g. `model.save('my_model.keras')`.\n",
      "  saving_api.save_model(\n"
     ]
    }
   ],
   "source": [
    "model.save('classifier_resnet_model.h5')"
   ]
  },
  {
   "cell_type": "code",
   "execution_count": null,
   "metadata": {},
   "outputs": [],
   "source": []
  }
 ],
 "metadata": {
  "kernelspec": {
   "display_name": "Python 3 (ipykernel)",
   "language": "python",
   "name": "python3"
  },
  "language_info": {
   "codemirror_mode": {
    "name": "ipython",
    "version": 3
   },
   "file_extension": ".py",
   "mimetype": "text/x-python",
   "name": "python",
   "nbconvert_exporter": "python",
   "pygments_lexer": "ipython3",
   "version": "3.11.5"
  }
 },
 "nbformat": 4,
 "nbformat_minor": 2
}
