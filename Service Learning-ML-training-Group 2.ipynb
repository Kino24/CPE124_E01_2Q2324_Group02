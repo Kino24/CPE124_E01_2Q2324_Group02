{
 "cells": [
  {
   "cell_type": "code",
   "execution_count": 1,
   "metadata": {},
   "outputs": [
    {
     "name": "stdout",
     "output_type": "stream",
     "text": [
      "2.14.0\n"
     ]
    }
   ],
   "source": [
    "from keras.preprocessing.image import ImageDataGenerator\n",
    "import keras\n",
    "from keras.models import Sequential\n",
    "from keras.layers import Input, Dense\n",
    "from keras.applications import ResNet50\n",
    "from keras.applications.resnet50 import preprocess_input\n",
    "import os\n",
    "print(keras.__version__)"
   ]
  },
  {
   "cell_type": "code",
   "execution_count": 2,
   "metadata": {},
   "outputs": [
    {
     "data": {
      "text/plain": [
       "''"
      ]
     },
     "execution_count": 2,
     "metadata": {},
     "output_type": "execute_result"
    }
   ],
   "source": [
    "num_classes = 3\n",
    "\n",
    "image_resize = 224\n",
    "\n",
    "batch_size_training = 5\n",
    "batch_size_validation = 5\n",
    "script_dir = os.path.dirname('experiment.ipynb')\n",
    "script_dir"
   ]
  },
  {
   "cell_type": "code",
   "execution_count": 3,
   "metadata": {},
   "outputs": [],
   "source": [
    "data_generator = ImageDataGenerator(\n",
    "    preprocessing_function=preprocess_input,\n",
    ")"
   ]
  },
  {
   "cell_type": "code",
   "execution_count": 4,
   "metadata": {},
   "outputs": [
    {
     "name": "stdout",
     "output_type": "stream",
     "text": [
      "Found 1241 images belonging to 8 classes.\n"
     ]
    }
   ],
   "source": [
    "train_generator = data_generator.flow_from_directory(\n",
    "    './skin-disease-dataset/train_set',\n",
    "    target_size=(image_resize, image_resize),\n",
    "    batch_size=batch_size_training,\n",
    "    class_mode='categorical')"
   ]
  },
  {
   "cell_type": "code",
   "execution_count": 5,
   "metadata": {},
   "outputs": [
    {
     "name": "stdout",
     "output_type": "stream",
     "text": [
      "Found 233 images belonging to 8 classes.\n"
     ]
    }
   ],
   "source": [
    "validation_generator = data_generator.flow_from_directory(\n",
    "    './skin-disease-dataset/test_set/',\n",
    "    target_size=(image_resize, image_resize),\n",
    "    batch_size=batch_size_validation,\n",
    "    class_mode='categorical')"
   ]
  },
  {
   "cell_type": "code",
   "execution_count": 6,
   "metadata": {},
   "outputs": [],
   "source": [
    "model=Sequential()\n",
    "model.add(ResNet50(include_top=False,pooling='avg',weights='imagenet'))"
   ]
  },
  {
   "cell_type": "code",
   "execution_count": 7,
   "metadata": {},
   "outputs": [
    {
     "data": {
      "text/plain": [
       "[<keras.src.engine.functional.Functional at 0x1558109d410>,\n",
       " <keras.src.layers.core.dense.Dense at 0x155810dc050>]"
      ]
     },
     "execution_count": 7,
     "metadata": {},
     "output_type": "execute_result"
    }
   ],
   "source": [
    "model.add(Dense(num_classes, activation='softmax'))\n",
    "model.layers"
   ]
  },
  {
   "cell_type": "code",
   "execution_count": 8,
   "metadata": {},
   "outputs": [
    {
     "data": {
      "text/plain": [
       "[<keras.src.engine.input_layer.InputLayer at 0x155e31f84d0>,\n",
       " <keras.src.layers.reshaping.zero_padding2d.ZeroPadding2D at 0x155ff1e44d0>,\n",
       " <keras.src.layers.convolutional.conv2d.Conv2D at 0x155ff274c10>,\n",
       " <keras.src.layers.normalization.batch_normalization.BatchNormalization at 0x155ff23c810>,\n",
       " <keras.src.layers.core.activation.Activation at 0x155ff28fe50>,\n",
       " <keras.src.layers.reshaping.zero_padding2d.ZeroPadding2D at 0x155ff148b50>,\n",
       " <keras.src.layers.pooling.max_pooling2d.MaxPooling2D at 0x155ff21cf50>,\n",
       " <keras.src.layers.convolutional.conv2d.Conv2D at 0x155ff3085d0>,\n",
       " <keras.src.layers.normalization.batch_normalization.BatchNormalization at 0x155ff28ed90>,\n",
       " <keras.src.layers.core.activation.Activation at 0x155ff329610>,\n",
       " <keras.src.layers.convolutional.conv2d.Conv2D at 0x155ff31bd10>,\n",
       " <keras.src.layers.normalization.batch_normalization.BatchNormalization at 0x155fe211090>,\n",
       " <keras.src.layers.core.activation.Activation at 0x155ff308350>,\n",
       " <keras.src.layers.convolutional.conv2d.Conv2D at 0x155ff305a10>,\n",
       " <keras.src.layers.convolutional.conv2d.Conv2D at 0x155ff2ff310>,\n",
       " <keras.src.layers.normalization.batch_normalization.BatchNormalization at 0x155ff23d3d0>,\n",
       " <keras.src.layers.normalization.batch_normalization.BatchNormalization at 0x155ff23ce10>,\n",
       " <keras.src.layers.merging.add.Add at 0x155ff305a50>,\n",
       " <keras.src.layers.core.activation.Activation at 0x155ff31a710>,\n",
       " <keras.src.layers.convolutional.conv2d.Conv2D at 0x155ff345590>,\n",
       " <keras.src.layers.normalization.batch_normalization.BatchNormalization at 0x155ff343390>,\n",
       " <keras.src.layers.core.activation.Activation at 0x155ff30a990>,\n",
       " <keras.src.layers.convolutional.conv2d.Conv2D at 0x155ff356cd0>,\n",
       " <keras.src.layers.normalization.batch_normalization.BatchNormalization at 0x155ff15e2d0>,\n",
       " <keras.src.layers.core.activation.Activation at 0x155ff28f5d0>,\n",
       " <keras.src.layers.convolutional.conv2d.Conv2D at 0x155ff362b50>,\n",
       " <keras.src.layers.normalization.batch_normalization.BatchNormalization at 0x155ff209710>,\n",
       " <keras.src.layers.merging.add.Add at 0x155ff2cb610>,\n",
       " <keras.src.layers.core.activation.Activation at 0x155ff21c410>,\n",
       " <keras.src.layers.convolutional.conv2d.Conv2D at 0x155ff38f4d0>,\n",
       " <keras.src.layers.normalization.batch_normalization.BatchNormalization at 0x155ff38cf50>,\n",
       " <keras.src.layers.core.activation.Activation at 0x155ff23f650>,\n",
       " <keras.src.layers.convolutional.conv2d.Conv2D at 0x155ff304050>,\n",
       " <keras.src.layers.normalization.batch_normalization.BatchNormalization at 0x155ff328c10>,\n",
       " <keras.src.layers.core.activation.Activation at 0x155ff21cc50>,\n",
       " <keras.src.layers.convolutional.conv2d.Conv2D at 0x155ff3a4810>,\n",
       " <keras.src.layers.normalization.batch_normalization.BatchNormalization at 0x155ff3bab50>,\n",
       " <keras.src.layers.merging.add.Add at 0x155ff3ba450>,\n",
       " <keras.src.layers.core.activation.Activation at 0x155ff390fd0>,\n",
       " <keras.src.layers.convolutional.conv2d.Conv2D at 0x155ff380390>,\n",
       " <keras.src.layers.normalization.batch_normalization.BatchNormalization at 0x155ff3bb9d0>,\n",
       " <keras.src.layers.core.activation.Activation at 0x155ff3a4490>,\n",
       " <keras.src.layers.convolutional.conv2d.Conv2D at 0x155ff28ee90>,\n",
       " <keras.src.layers.normalization.batch_normalization.BatchNormalization at 0x155ff20ad50>,\n",
       " <keras.src.layers.core.activation.Activation at 0x155ff382050>,\n",
       " <keras.src.layers.convolutional.conv2d.Conv2D at 0x155ff393490>,\n",
       " <keras.src.layers.convolutional.conv2d.Conv2D at 0x155ff333250>,\n",
       " <keras.src.layers.normalization.batch_normalization.BatchNormalization at 0x155ff3b8d50>,\n",
       " <keras.src.layers.normalization.batch_normalization.BatchNormalization at 0x155ff3c0590>,\n",
       " <keras.src.layers.merging.add.Add at 0x155ff376850>,\n",
       " <keras.src.layers.core.activation.Activation at 0x155ff23e810>,\n",
       " <keras.src.layers.convolutional.conv2d.Conv2D at 0x155ff3da850>,\n",
       " <keras.src.layers.normalization.batch_normalization.BatchNormalization at 0x155ff3d9c90>,\n",
       " <keras.src.layers.core.activation.Activation at 0x155ff2e0e50>,\n",
       " <keras.src.layers.convolutional.conv2d.Conv2D at 0x155ff3e65d0>,\n",
       " <keras.src.layers.normalization.batch_normalization.BatchNormalization at 0x155ff3d46d0>,\n",
       " <keras.src.layers.core.activation.Activation at 0x155ff2ac290>,\n",
       " <keras.src.layers.convolutional.conv2d.Conv2D at 0x155ff40b910>,\n",
       " <keras.src.layers.normalization.batch_normalization.BatchNormalization at 0x155ff21e450>,\n",
       " <keras.src.layers.merging.add.Add at 0x155ff0bf2d0>,\n",
       " <keras.src.layers.core.activation.Activation at 0x155ff276110>,\n",
       " <keras.src.layers.convolutional.conv2d.Conv2D at 0x155ff41b450>,\n",
       " <keras.src.layers.normalization.batch_normalization.BatchNormalization at 0x155ff16b7d0>,\n",
       " <keras.src.layers.core.activation.Activation at 0x155ff419bd0>,\n",
       " <keras.src.layers.convolutional.conv2d.Conv2D at 0x155ff41bb90>,\n",
       " <keras.src.layers.normalization.batch_normalization.BatchNormalization at 0x155ff3f1450>,\n",
       " <keras.src.layers.core.activation.Activation at 0x155ff40da90>,\n",
       " <keras.src.layers.convolutional.conv2d.Conv2D at 0x155ff354a10>,\n",
       " <keras.src.layers.normalization.batch_normalization.BatchNormalization at 0x155ff32ae50>,\n",
       " <keras.src.layers.merging.add.Add at 0x155ff2cb290>,\n",
       " <keras.src.layers.core.activation.Activation at 0x155ff333450>,\n",
       " <keras.src.layers.convolutional.conv2d.Conv2D at 0x155ff423e50>,\n",
       " <keras.src.layers.normalization.batch_normalization.BatchNormalization at 0x155ff361510>,\n",
       " <keras.src.layers.core.activation.Activation at 0x155ff1e6810>,\n",
       " <keras.src.layers.convolutional.conv2d.Conv2D at 0x155ff440190>,\n",
       " <keras.src.layers.normalization.batch_normalization.BatchNormalization at 0x155ff3d4590>,\n",
       " <keras.src.layers.core.activation.Activation at 0x155ff3c0a90>,\n",
       " <keras.src.layers.convolutional.conv2d.Conv2D at 0x155ff44a5d0>,\n",
       " <keras.src.layers.normalization.batch_normalization.BatchNormalization at 0x155ff3daa90>,\n",
       " <keras.src.layers.merging.add.Add at 0x155ff2c99d0>,\n",
       " <keras.src.layers.core.activation.Activation at 0x155ff45f250>,\n",
       " <keras.src.layers.convolutional.conv2d.Conv2D at 0x155ff471a50>,\n",
       " <keras.src.layers.normalization.batch_normalization.BatchNormalization at 0x155ff2e35d0>,\n",
       " <keras.src.layers.core.activation.Activation at 0x155ff48f610>,\n",
       " <keras.src.layers.convolutional.conv2d.Conv2D at 0x155ff478d50>,\n",
       " <keras.src.layers.normalization.batch_normalization.BatchNormalization at 0x155ff478510>,\n",
       " <keras.src.layers.core.activation.Activation at 0x155ff479190>,\n",
       " <keras.src.layers.convolutional.conv2d.Conv2D at 0x155ff46fad0>,\n",
       " <keras.src.layers.convolutional.conv2d.Conv2D at 0x155ff471d10>,\n",
       " <keras.src.layers.normalization.batch_normalization.BatchNormalization at 0x155ff46f910>,\n",
       " <keras.src.layers.normalization.batch_normalization.BatchNormalization at 0x155e3a1ae90>,\n",
       " <keras.src.layers.merging.add.Add at 0x155ff169a10>,\n",
       " <keras.src.layers.core.activation.Activation at 0x155ff3bafd0>,\n",
       " <keras.src.layers.convolutional.conv2d.Conv2D at 0x155ff274090>,\n",
       " <keras.src.layers.normalization.batch_normalization.BatchNormalization at 0x155ff3d9950>,\n",
       " <keras.src.layers.core.activation.Activation at 0x155ff430c10>,\n",
       " <keras.src.layers.convolutional.conv2d.Conv2D at 0x155ff1e4310>,\n",
       " <keras.src.layers.normalization.batch_normalization.BatchNormalization at 0x155ff3f6ed0>,\n",
       " <keras.src.layers.core.activation.Activation at 0x155ff478b10>,\n",
       " <keras.src.layers.convolutional.conv2d.Conv2D at 0x155ff4ab490>,\n",
       " <keras.src.layers.normalization.batch_normalization.BatchNormalization at 0x155ff4b3e90>,\n",
       " <keras.src.layers.merging.add.Add at 0x155ff4b1710>,\n",
       " <keras.src.layers.core.activation.Activation at 0x155ff48d590>,\n",
       " <keras.src.layers.convolutional.conv2d.Conv2D at 0x155ff4aa250>,\n",
       " <keras.src.layers.normalization.batch_normalization.BatchNormalization at 0x155ff430ad0>,\n",
       " <keras.src.layers.core.activation.Activation at 0x155ff432950>,\n",
       " <keras.src.layers.convolutional.conv2d.Conv2D at 0x155ff4b4790>,\n",
       " <keras.src.layers.normalization.batch_normalization.BatchNormalization at 0x155ff4c7150>,\n",
       " <keras.src.layers.core.activation.Activation at 0x155ff47b590>,\n",
       " <keras.src.layers.convolutional.conv2d.Conv2D at 0x155ff4dad50>,\n",
       " <keras.src.layers.normalization.batch_normalization.BatchNormalization at 0x155ff4e0710>,\n",
       " <keras.src.layers.merging.add.Add at 0x155ff4f3010>,\n",
       " <keras.src.layers.core.activation.Activation at 0x155ff4f0390>,\n",
       " <keras.src.layers.convolutional.conv2d.Conv2D at 0x155ff4cfbd0>,\n",
       " <keras.src.layers.normalization.batch_normalization.BatchNormalization at 0x155ff4dbad0>,\n",
       " <keras.src.layers.core.activation.Activation at 0x155ff4ce6d0>,\n",
       " <keras.src.layers.convolutional.conv2d.Conv2D at 0x155ff4b02d0>,\n",
       " <keras.src.layers.normalization.batch_normalization.BatchNormalization at 0x155ff3c3450>,\n",
       " <keras.src.layers.core.activation.Activation at 0x155ff21fe10>,\n",
       " <keras.src.layers.convolutional.conv2d.Conv2D at 0x155ff4b2650>,\n",
       " <keras.src.layers.normalization.batch_normalization.BatchNormalization at 0x155ff46d450>,\n",
       " <keras.src.layers.merging.add.Add at 0x155ff45bf90>,\n",
       " <keras.src.layers.core.activation.Activation at 0x155ff4f6790>,\n",
       " <keras.src.layers.convolutional.conv2d.Conv2D at 0x155ff514f90>,\n",
       " <keras.src.layers.normalization.batch_normalization.BatchNormalization at 0x155ff507250>,\n",
       " <keras.src.layers.core.activation.Activation at 0x155ff4c7450>,\n",
       " <keras.src.layers.convolutional.conv2d.Conv2D at 0x155ff51b5d0>,\n",
       " <keras.src.layers.normalization.batch_normalization.BatchNormalization at 0x155ff44c5d0>,\n",
       " <keras.src.layers.core.activation.Activation at 0x155ff4f0310>,\n",
       " <keras.src.layers.convolutional.conv2d.Conv2D at 0x15580fd1690>,\n",
       " <keras.src.layers.normalization.batch_normalization.BatchNormalization at 0x155ff4b2f50>,\n",
       " <keras.src.layers.merging.add.Add at 0x155ff51dfd0>,\n",
       " <keras.src.layers.core.activation.Activation at 0x155ff20ae90>,\n",
       " <keras.src.layers.convolutional.conv2d.Conv2D at 0x15581009150>,\n",
       " <keras.src.layers.normalization.batch_normalization.BatchNormalization at 0x155ff4c06d0>,\n",
       " <keras.src.layers.core.activation.Activation at 0x155ff28fc10>,\n",
       " <keras.src.layers.convolutional.conv2d.Conv2D at 0x1558100d350>,\n",
       " <keras.src.layers.normalization.batch_normalization.BatchNormalization at 0x1558100d290>,\n",
       " <keras.src.layers.core.activation.Activation at 0x1558100f110>,\n",
       " <keras.src.layers.convolutional.conv2d.Conv2D at 0x15580ff9e50>,\n",
       " <keras.src.layers.normalization.batch_normalization.BatchNormalization at 0x15580ff1710>,\n",
       " <keras.src.layers.merging.add.Add at 0x15580fd3ad0>,\n",
       " <keras.src.layers.core.activation.Activation at 0x1558100cf10>,\n",
       " <keras.src.layers.convolutional.conv2d.Conv2D at 0x155ff44d110>,\n",
       " <keras.src.layers.normalization.batch_normalization.BatchNormalization at 0x155ff4cfe50>,\n",
       " <keras.src.layers.core.activation.Activation at 0x155ff4dbd50>,\n",
       " <keras.src.layers.convolutional.conv2d.Conv2D at 0x15581019dd0>,\n",
       " <keras.src.layers.normalization.batch_normalization.BatchNormalization at 0x15580ff9650>,\n",
       " <keras.src.layers.core.activation.Activation at 0x155ff374d90>,\n",
       " <keras.src.layers.convolutional.conv2d.Conv2D at 0x155ff507fd0>,\n",
       " <keras.src.layers.convolutional.conv2d.Conv2D at 0x15581039310>,\n",
       " <keras.src.layers.normalization.batch_normalization.BatchNormalization at 0x15580fd1b50>,\n",
       " <keras.src.layers.normalization.batch_normalization.BatchNormalization at 0x155ff360850>,\n",
       " <keras.src.layers.merging.add.Add at 0x1558103ad10>,\n",
       " <keras.src.layers.core.activation.Activation at 0x1558100f010>,\n",
       " <keras.src.layers.convolutional.conv2d.Conv2D at 0x155ff46dcd0>,\n",
       " <keras.src.layers.normalization.batch_normalization.BatchNormalization at 0x15581043810>,\n",
       " <keras.src.layers.core.activation.Activation at 0x155810534d0>,\n",
       " <keras.src.layers.convolutional.conv2d.Conv2D at 0x1558104c110>,\n",
       " <keras.src.layers.normalization.batch_normalization.BatchNormalization at 0x15581052750>,\n",
       " <keras.src.layers.core.activation.Activation at 0x1558106fe90>,\n",
       " <keras.src.layers.convolutional.conv2d.Conv2D at 0x1558106d6d0>,\n",
       " <keras.src.layers.normalization.batch_normalization.BatchNormalization at 0x1558106d9d0>,\n",
       " <keras.src.layers.merging.add.Add at 0x15581065210>,\n",
       " <keras.src.layers.core.activation.Activation at 0x1558104d210>,\n",
       " <keras.src.layers.convolutional.conv2d.Conv2D at 0x1558102b0d0>,\n",
       " <keras.src.layers.normalization.batch_normalization.BatchNormalization at 0x15581027b10>,\n",
       " <keras.src.layers.core.activation.Activation at 0x15581045410>,\n",
       " <keras.src.layers.convolutional.conv2d.Conv2D at 0x155ff51f050>,\n",
       " <keras.src.layers.normalization.batch_normalization.BatchNormalization at 0x15581044390>,\n",
       " <keras.src.layers.core.activation.Activation at 0x155810285d0>,\n",
       " <keras.src.layers.convolutional.conv2d.Conv2D at 0x1558104f890>,\n",
       " <keras.src.layers.normalization.batch_normalization.BatchNormalization at 0x1558107be50>,\n",
       " <keras.src.layers.merging.add.Add at 0x1558107b4d0>,\n",
       " <keras.src.layers.core.activation.Activation at 0x15581046fd0>,\n",
       " <keras.src.layers.pooling.global_average_pooling2d.GlobalAveragePooling2D at 0x15581097250>]"
      ]
     },
     "execution_count": 8,
     "metadata": {},
     "output_type": "execute_result"
    }
   ],
   "source": [
    "model.layers[0].layers"
   ]
  },
  {
   "cell_type": "code",
   "execution_count": 9,
   "metadata": {},
   "outputs": [],
   "source": [
    "model.layers[0].trainable = False"
   ]
  },
  {
   "cell_type": "code",
   "execution_count": 10,
   "metadata": {},
   "outputs": [
    {
     "name": "stdout",
     "output_type": "stream",
     "text": [
      "Model: \"sequential\"\n",
      "_________________________________________________________________\n",
      " Layer (type)                Output Shape              Param #   \n",
      "=================================================================\n",
      " resnet50 (Functional)       (None, 2048)              23587712  \n",
      "                                                                 \n",
      " dense (Dense)               (None, 8)                 16392     \n",
      "                                                                 \n",
      "=================================================================\n",
      "Total params: 23604104 (90.04 MB)\n",
      "Trainable params: 16392 (64.03 KB)\n",
      "Non-trainable params: 23587712 (89.98 MB)\n",
      "_________________________________________________________________\n"
     ]
    }
   ],
   "source": [
    "model.summary()"
   ]
  },
  {
   "cell_type": "code",
   "execution_count": 11,
   "metadata": {},
   "outputs": [],
   "source": [
    "model.compile(optimizer='adam', loss='categorical_crossentropy', metrics=['accuracy'])"
   ]
  },
  {
   "cell_type": "code",
   "execution_count": 12,
   "metadata": {},
   "outputs": [
    {
     "name": "stdout",
     "output_type": "stream",
     "text": [
      "60\n"
     ]
    }
   ],
   "source": [
    "steps_per_epoch_training = 60\n",
    "steps_per_epoch_validation = 60\n",
    "num_epochs = 30\n",
    "print (steps_per_epoch_validation)"
   ]
  },
  {
   "cell_type": "code",
   "execution_count": 13,
   "metadata": {},
   "outputs": [
    {
     "name": "stdout",
     "output_type": "stream",
     "text": [
      "Epoch 1/30\n",
      "53/60 [=========================>....] - ETA: 2s - loss: 1.4563 - accuracy: 0.5321"
     ]
    },
    {
     "name": "stderr",
     "output_type": "stream",
     "text": [
      "c:\\Users\\user\\.pyenv\\pyenv-win\\versions\\3.11.6\\Lib\\site-packages\\PIL\\Image.py:975: UserWarning: Palette images with Transparency expressed in bytes should be converted to RGBA images\n",
      "  warnings.warn(\n"
     ]
    },
    {
     "name": "stdout",
     "output_type": "stream",
     "text": [
      "60/60 [==============================] - ETA: 0s - loss: 1.3512 - accuracy: 0.5633WARNING:tensorflow:Your input ran out of data; interrupting training. Make sure that your dataset or generator can generate at least `steps_per_epoch * epochs` batches (in this case, 60 batches). You may need to use the repeat() function when building your dataset.\n",
      "60/60 [==============================] - 43s 643ms/step - loss: 1.3512 - accuracy: 0.5633 - val_loss: 0.6266 - val_accuracy: 0.7682\n",
      "Epoch 2/30\n",
      "60/60 [==============================] - 21s 347ms/step - loss: 0.5995 - accuracy: 0.8067\n",
      "Epoch 3/30\n",
      "60/60 [==============================] - 21s 348ms/step - loss: 0.4033 - accuracy: 0.8784\n",
      "Epoch 4/30\n",
      "60/60 [==============================] - 20s 339ms/step - loss: 0.3272 - accuracy: 0.9054\n",
      "Epoch 5/30\n",
      "60/60 [==============================] - 21s 355ms/step - loss: 0.2290 - accuracy: 0.9392\n",
      "Epoch 6/30\n",
      "60/60 [==============================] - 22s 370ms/step - loss: 0.1906 - accuracy: 0.9433\n",
      "Epoch 7/30\n",
      "60/60 [==============================] - 22s 362ms/step - loss: 0.1098 - accuracy: 0.9733\n",
      "Epoch 8/30\n",
      "60/60 [==============================] - 22s 361ms/step - loss: 0.1721 - accuracy: 0.9567\n",
      "Epoch 9/30\n",
      "60/60 [==============================] - 20s 338ms/step - loss: 0.1077 - accuracy: 0.9800\n",
      "Epoch 10/30\n",
      "60/60 [==============================] - 22s 360ms/step - loss: 0.0975 - accuracy: 0.9865\n",
      "Epoch 11/30\n",
      "60/60 [==============================] - 22s 364ms/step - loss: 0.0953 - accuracy: 0.9767\n",
      "Epoch 12/30\n",
      "60/60 [==============================] - 20s 332ms/step - loss: 0.0647 - accuracy: 0.9833\n",
      "Epoch 13/30\n",
      "60/60 [==============================] - 19s 315ms/step - loss: 0.0810 - accuracy: 0.9833\n",
      "Epoch 14/30\n",
      "60/60 [==============================] - 19s 317ms/step - loss: 0.0660 - accuracy: 0.9865\n",
      "Epoch 15/30\n",
      "60/60 [==============================] - 20s 338ms/step - loss: 0.0395 - accuracy: 0.9967\n",
      "Epoch 16/30\n",
      "60/60 [==============================] - 20s 340ms/step - loss: 0.0605 - accuracy: 0.9899\n",
      "Epoch 17/30\n",
      "60/60 [==============================] - 20s 339ms/step - loss: 0.0502 - accuracy: 0.9933\n",
      "Epoch 18/30\n",
      "60/60 [==============================] - 20s 334ms/step - loss: 0.0356 - accuracy: 0.9966\n",
      "Epoch 19/30\n",
      "60/60 [==============================] - 19s 314ms/step - loss: 0.0398 - accuracy: 0.9933\n",
      "Epoch 20/30\n",
      "60/60 [==============================] - 18s 300ms/step - loss: 0.0250 - accuracy: 1.0000\n",
      "Epoch 21/30\n",
      "60/60 [==============================] - 19s 325ms/step - loss: 0.0309 - accuracy: 0.9933\n",
      "Epoch 22/30\n",
      "60/60 [==============================] - 20s 326ms/step - loss: 0.0252 - accuracy: 0.9966\n",
      "Epoch 23/30\n",
      "60/60 [==============================] - 21s 357ms/step - loss: 0.0194 - accuracy: 1.0000\n",
      "Epoch 24/30\n",
      "60/60 [==============================] - 19s 325ms/step - loss: 0.0176 - accuracy: 1.0000\n",
      "Epoch 25/30\n",
      "60/60 [==============================] - 18s 299ms/step - loss: 0.0147 - accuracy: 1.0000\n",
      "Epoch 26/30\n",
      "60/60 [==============================] - 20s 333ms/step - loss: 0.0141 - accuracy: 1.0000\n",
      "Epoch 27/30\n",
      "60/60 [==============================] - 19s 310ms/step - loss: 0.0114 - accuracy: 1.0000\n",
      "Epoch 28/30\n",
      "60/60 [==============================] - 18s 298ms/step - loss: 0.0118 - accuracy: 1.0000\n",
      "Epoch 29/30\n",
      "60/60 [==============================] - 18s 295ms/step - loss: 0.0116 - accuracy: 1.0000\n",
      "Epoch 30/30\n",
      "60/60 [==============================] - 18s 294ms/step - loss: 0.0115 - accuracy: 1.0000\n"
     ]
    }
   ],
   "source": [
    "fit_history = model.fit(\n",
    "    train_generator,\n",
    "    steps_per_epoch=steps_per_epoch_training,\n",
    "    epochs=num_epochs,\n",
    "    validation_data=validation_generator,\n",
    "    validation_steps=steps_per_epoch_validation,\n",
    "    verbose=1,\n",
    ")"
   ]
  },
  {
   "cell_type": "code",
   "execution_count": 15,
   "metadata": {},
   "outputs": [],
   "source": [
    "model.save('classifier_resnet_model.keras')"
   ]
  },
  {
   "cell_type": "code",
   "execution_count": null,
   "metadata": {},
   "outputs": [],
   "source": []
  }
 ],
 "metadata": {
  "kernelspec": {
   "display_name": "Python 3 (ipykernel)",
   "language": "python",
   "name": "python3"
  },
  "language_info": {
   "codemirror_mode": {
    "name": "ipython",
    "version": 3
   },
   "file_extension": ".py",
   "mimetype": "text/x-python",
   "name": "python",
   "nbconvert_exporter": "python",
   "pygments_lexer": "ipython3",
   "version": "3.11.6"
  }
 },
 "nbformat": 4,
 "nbformat_minor": 2
}
