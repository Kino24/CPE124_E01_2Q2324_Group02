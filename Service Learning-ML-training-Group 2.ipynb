{
 "cells": [
  {
   "cell_type": "code",
   "execution_count": 1,
   "metadata": {},
   "outputs": [
    {
     "name": "stdout",
     "output_type": "stream",
     "text": [
      "2.14.0\n"
     ]
    }
   ],
   "source": [
    "from keras.preprocessing.image import ImageDataGenerator\n",
    "import keras\n",
    "from keras.models import Sequential\n",
    "from keras.layers import Input, Dense\n",
    "from keras.applications import ResNet50\n",
    "from keras.applications.resnet50 import preprocess_input\n",
    "import os\n",
    "print(keras.__version__)"
   ]
  },
  {
   "cell_type": "code",
   "execution_count": 2,
   "metadata": {},
   "outputs": [
    {
     "data": {
      "text/plain": [
       "''"
      ]
     },
     "execution_count": 2,
     "metadata": {},
     "output_type": "execute_result"
    }
   ],
   "source": [
    "num_classes = 3\n",
    "\n",
    "image_resize = 224\n",
    "\n",
    "batch_size_training = 5\n",
    "batch_size_validation = 5\n",
    "script_dir = os.path.dirname('SL_ResNetModel.ipynb')\n",
    "script_dir"
   ]
  },
  {
   "cell_type": "code",
   "execution_count": 3,
   "metadata": {},
   "outputs": [],
   "source": [
    "data_generator = ImageDataGenerator(\n",
    "    preprocessing_function=preprocess_input,\n",
    ")"
   ]
  },
  {
   "cell_type": "code",
   "execution_count": 5,
   "metadata": {},
   "outputs": [
    {
     "name": "stdout",
     "output_type": "stream",
     "text": [
      "Found 618 images belonging to 3 classes.\n"
     ]
    }
   ],
   "source": [
    "train_generator = data_generator.flow_from_directory(\n",
    "    './skin-disease-dataset/train_set',\n",
    "    target_size=(image_resize, image_resize),\n",
    "    batch_size=batch_size_training,\n",
    "    class_mode='categorical')"
   ]
  },
  {
   "cell_type": "code",
   "execution_count": 6,
   "metadata": {},
   "outputs": [
    {
     "name": "stdout",
     "output_type": "stream",
     "text": [
      "Found 87 images belonging to 3 classes.\n"
     ]
    }
   ],
   "source": [
    "validation_generator = data_generator.flow_from_directory(\n",
    "    './skin-disease-dataset/test_set/',\n",
    "    target_size=(image_resize, image_resize),\n",
    "    batch_size=batch_size_validation,\n",
    "    class_mode='categorical')"
   ]
  },
  {
   "cell_type": "code",
   "execution_count": 7,
   "metadata": {},
   "outputs": [],
   "source": [
    "model=Sequential()\n",
    "model.add(ResNet50(include_top=False,pooling='avg',weights='imagenet'))"
   ]
  },
  {
   "cell_type": "code",
   "execution_count": 8,
   "metadata": {},
   "outputs": [
    {
     "data": {
      "text/plain": [
       "[<keras.src.engine.functional.Functional at 0x210da939590>,\n",
       " <keras.src.layers.core.dense.Dense at 0x210da4abc10>]"
      ]
     },
     "execution_count": 8,
     "metadata": {},
     "output_type": "execute_result"
    }
   ],
   "source": [
    "model.add(Dense(num_classes, activation='softmax'))\n",
    "model.layers"
   ]
  },
  {
   "cell_type": "code",
   "execution_count": 9,
   "metadata": {},
   "outputs": [
    {
     "data": {
      "text/plain": [
       "[<keras.src.engine.input_layer.InputLayer at 0x210a24be090>,\n",
       " <keras.src.layers.reshaping.zero_padding2d.ZeroPadding2D at 0x210d89a2290>,\n",
       " <keras.src.layers.convolutional.conv2d.Conv2D at 0x210d8ab5d10>,\n",
       " <keras.src.layers.normalization.batch_normalization.BatchNormalization at 0x210da100d90>,\n",
       " <keras.src.layers.core.activation.Activation at 0x210da0ff590>,\n",
       " <keras.src.layers.reshaping.zero_padding2d.ZeroPadding2D at 0x210da101ed0>,\n",
       " <keras.src.layers.pooling.max_pooling2d.MaxPooling2D at 0x210d8ad8b90>,\n",
       " <keras.src.layers.convolutional.conv2d.Conv2D at 0x210da4fc350>,\n",
       " <keras.src.layers.normalization.batch_normalization.BatchNormalization at 0x210da4fc390>,\n",
       " <keras.src.layers.core.activation.Activation at 0x210da4bbed0>,\n",
       " <keras.src.layers.convolutional.conv2d.Conv2D at 0x210da497850>,\n",
       " <keras.src.layers.normalization.batch_normalization.BatchNormalization at 0x210bf802dd0>,\n",
       " <keras.src.layers.core.activation.Activation at 0x210d89a0a50>,\n",
       " <keras.src.layers.convolutional.conv2d.Conv2D at 0x210da471910>,\n",
       " <keras.src.layers.convolutional.conv2d.Conv2D at 0x210da65b450>,\n",
       " <keras.src.layers.normalization.batch_normalization.BatchNormalization at 0x210da635450>,\n",
       " <keras.src.layers.normalization.batch_normalization.BatchNormalization at 0x210da406410>,\n",
       " <keras.src.layers.merging.add.Add at 0x210da677a90>,\n",
       " <keras.src.layers.core.activation.Activation at 0x210ba232510>,\n",
       " <keras.src.layers.convolutional.conv2d.Conv2D at 0x210da684210>,\n",
       " <keras.src.layers.normalization.batch_normalization.BatchNormalization at 0x210da520c90>,\n",
       " <keras.src.layers.core.activation.Activation at 0x210da4b88d0>,\n",
       " <keras.src.layers.convolutional.conv2d.Conv2D at 0x210da69c550>,\n",
       " <keras.src.layers.normalization.batch_normalization.BatchNormalization at 0x210da512450>,\n",
       " <keras.src.layers.core.activation.Activation at 0x210da6326d0>,\n",
       " <keras.src.layers.convolutional.conv2d.Conv2D at 0x210da522350>,\n",
       " <keras.src.layers.normalization.batch_normalization.BatchNormalization at 0x210da484310>,\n",
       " <keras.src.layers.merging.add.Add at 0x210da673410>,\n",
       " <keras.src.layers.core.activation.Activation at 0x210da6b1450>,\n",
       " <keras.src.layers.convolutional.conv2d.Conv2D at 0x210da6d9d50>,\n",
       " <keras.src.layers.normalization.batch_normalization.BatchNormalization at 0x210da6bcf90>,\n",
       " <keras.src.layers.core.activation.Activation at 0x210da101490>,\n",
       " <keras.src.layers.convolutional.conv2d.Conv2D at 0x210da6dfa90>,\n",
       " <keras.src.layers.normalization.batch_normalization.BatchNormalization at 0x210da103450>,\n",
       " <keras.src.layers.core.activation.Activation at 0x210da634d10>,\n",
       " <keras.src.layers.convolutional.conv2d.Conv2D at 0x210da6ea8d0>,\n",
       " <keras.src.layers.normalization.batch_normalization.BatchNormalization at 0x210da50a0d0>,\n",
       " <keras.src.layers.merging.add.Add at 0x210da704e90>,\n",
       " <keras.src.layers.core.activation.Activation at 0x210da707410>,\n",
       " <keras.src.layers.convolutional.conv2d.Conv2D at 0x210da6fa250>,\n",
       " <keras.src.layers.normalization.batch_normalization.BatchNormalization at 0x210da45c450>,\n",
       " <keras.src.layers.core.activation.Activation at 0x210da6fac90>,\n",
       " <keras.src.layers.convolutional.conv2d.Conv2D at 0x210da6a01d0>,\n",
       " <keras.src.layers.normalization.batch_normalization.BatchNormalization at 0x210da69f950>,\n",
       " <keras.src.layers.core.activation.Activation at 0x210da4fc810>,\n",
       " <keras.src.layers.convolutional.conv2d.Conv2D at 0x210da6f82d0>,\n",
       " <keras.src.layers.convolutional.conv2d.Conv2D at 0x210da6756d0>,\n",
       " <keras.src.layers.normalization.batch_normalization.BatchNormalization at 0x210da70abd0>,\n",
       " <keras.src.layers.normalization.batch_normalization.BatchNormalization at 0x210da5133d0>,\n",
       " <keras.src.layers.merging.add.Add at 0x210da510110>,\n",
       " <keras.src.layers.core.activation.Activation at 0x210da71b2d0>,\n",
       " <keras.src.layers.convolutional.conv2d.Conv2D at 0x210da737690>,\n",
       " <keras.src.layers.normalization.batch_normalization.BatchNormalization at 0x210da70ae50>,\n",
       " <keras.src.layers.core.activation.Activation at 0x210da674050>,\n",
       " <keras.src.layers.convolutional.conv2d.Conv2D at 0x210da737490>,\n",
       " <keras.src.layers.normalization.batch_normalization.BatchNormalization at 0x210da6f8890>,\n",
       " <keras.src.layers.core.activation.Activation at 0x210da71aed0>,\n",
       " <keras.src.layers.convolutional.conv2d.Conv2D at 0x210da74d890>,\n",
       " <keras.src.layers.normalization.batch_normalization.BatchNormalization at 0x210da74e050>,\n",
       " <keras.src.layers.merging.add.Add at 0x210da6c3510>,\n",
       " <keras.src.layers.core.activation.Activation at 0x210a3c88bd0>,\n",
       " <keras.src.layers.convolutional.conv2d.Conv2D at 0x210da769e50>,\n",
       " <keras.src.layers.normalization.batch_normalization.BatchNormalization at 0x210da76af50>,\n",
       " <keras.src.layers.core.activation.Activation at 0x210da774310>,\n",
       " <keras.src.layers.convolutional.conv2d.Conv2D at 0x210da76a350>,\n",
       " <keras.src.layers.normalization.batch_normalization.BatchNormalization at 0x210da777f50>,\n",
       " <keras.src.layers.core.activation.Activation at 0x210da754810>,\n",
       " <keras.src.layers.convolutional.conv2d.Conv2D at 0x210da4fdb50>,\n",
       " <keras.src.layers.normalization.batch_normalization.BatchNormalization at 0x210da101a50>,\n",
       " <keras.src.layers.merging.add.Add at 0x210da74fc90>,\n",
       " <keras.src.layers.core.activation.Activation at 0x210da494310>,\n",
       " <keras.src.layers.convolutional.conv2d.Conv2D at 0x210da707950>,\n",
       " <keras.src.layers.normalization.batch_normalization.BatchNormalization at 0x210da6f9c90>,\n",
       " <keras.src.layers.core.activation.Activation at 0x210da487910>,\n",
       " <keras.src.layers.convolutional.conv2d.Conv2D at 0x210da780150>,\n",
       " <keras.src.layers.normalization.batch_normalization.BatchNormalization at 0x210da69e890>,\n",
       " <keras.src.layers.core.activation.Activation at 0x210da4fcd10>,\n",
       " <keras.src.layers.convolutional.conv2d.Conv2D at 0x210da6dc150>,\n",
       " <keras.src.layers.normalization.batch_normalization.BatchNormalization at 0x210da7a0e10>,\n",
       " <keras.src.layers.merging.add.Add at 0x210da105a50>,\n",
       " <keras.src.layers.core.activation.Activation at 0x210da795ed0>,\n",
       " <keras.src.layers.convolutional.conv2d.Conv2D at 0x210da7b5dd0>,\n",
       " <keras.src.layers.normalization.batch_normalization.BatchNormalization at 0x210da7c1dd0>,\n",
       " <keras.src.layers.core.activation.Activation at 0x210da7cf910>,\n",
       " <keras.src.layers.convolutional.conv2d.Conv2D at 0x210da7d0c10>,\n",
       " <keras.src.layers.normalization.batch_normalization.BatchNormalization at 0x210d8ad9410>,\n",
       " <keras.src.layers.core.activation.Activation at 0x210da7dbe10>,\n",
       " <keras.src.layers.convolutional.conv2d.Conv2D at 0x210da7b6290>,\n",
       " <keras.src.layers.convolutional.conv2d.Conv2D at 0x210da7c0950>,\n",
       " <keras.src.layers.normalization.batch_normalization.BatchNormalization at 0x210da79cb10>,\n",
       " <keras.src.layers.normalization.batch_normalization.BatchNormalization at 0x210da7c0110>,\n",
       " <keras.src.layers.merging.add.Add at 0x210da7cd6d0>,\n",
       " <keras.src.layers.core.activation.Activation at 0x210da7d2950>,\n",
       " <keras.src.layers.convolutional.conv2d.Conv2D at 0x210da7c2e10>,\n",
       " <keras.src.layers.normalization.batch_normalization.BatchNormalization at 0x210da780a90>,\n",
       " <keras.src.layers.core.activation.Activation at 0x210da781310>,\n",
       " <keras.src.layers.convolutional.conv2d.Conv2D at 0x210da790c50>,\n",
       " <keras.src.layers.normalization.batch_normalization.BatchNormalization at 0x210da737390>,\n",
       " <keras.src.layers.core.activation.Activation at 0x210da735b10>,\n",
       " <keras.src.layers.convolutional.conv2d.Conv2D at 0x210da7d6d50>,\n",
       " <keras.src.layers.normalization.batch_normalization.BatchNormalization at 0x210da7e41d0>,\n",
       " <keras.src.layers.merging.add.Add at 0x210da4ffa90>,\n",
       " <keras.src.layers.core.activation.Activation at 0x210da801390>,\n",
       " <keras.src.layers.convolutional.conv2d.Conv2D at 0x210da741150>,\n",
       " <keras.src.layers.normalization.batch_normalization.BatchNormalization at 0x210da7b5bd0>,\n",
       " <keras.src.layers.core.activation.Activation at 0x210da7d6d10>,\n",
       " <keras.src.layers.convolutional.conv2d.Conv2D at 0x210da7c1fd0>,\n",
       " <keras.src.layers.normalization.batch_normalization.BatchNormalization at 0x210da7cca90>,\n",
       " <keras.src.layers.core.activation.Activation at 0x210da82e090>,\n",
       " <keras.src.layers.convolutional.conv2d.Conv2D at 0x210da829890>,\n",
       " <keras.src.layers.normalization.batch_normalization.BatchNormalization at 0x210da829410>,\n",
       " <keras.src.layers.merging.add.Add at 0x210da781190>,\n",
       " <keras.src.layers.core.activation.Activation at 0x210da8439d0>,\n",
       " <keras.src.layers.convolutional.conv2d.Conv2D at 0x210da840ad0>,\n",
       " <keras.src.layers.normalization.batch_normalization.BatchNormalization at 0x210da841990>,\n",
       " <keras.src.layers.core.activation.Activation at 0x210da839150>,\n",
       " <keras.src.layers.convolutional.conv2d.Conv2D at 0x210da80ce10>,\n",
       " <keras.src.layers.normalization.batch_normalization.BatchNormalization at 0x210da812490>,\n",
       " <keras.src.layers.core.activation.Activation at 0x210da82fc90>,\n",
       " <keras.src.layers.convolutional.conv2d.Conv2D at 0x210da727250>,\n",
       " <keras.src.layers.normalization.batch_normalization.BatchNormalization at 0x210da806ad0>,\n",
       " <keras.src.layers.merging.add.Add at 0x210da7c3b90>,\n",
       " <keras.src.layers.core.activation.Activation at 0x210da486590>,\n",
       " <keras.src.layers.convolutional.conv2d.Conv2D at 0x210da677a50>,\n",
       " <keras.src.layers.normalization.batch_normalization.BatchNormalization at 0x210da84c890>,\n",
       " <keras.src.layers.core.activation.Activation at 0x210da7e5c50>,\n",
       " <keras.src.layers.convolutional.conv2d.Conv2D at 0x210da851a10>,\n",
       " <keras.src.layers.normalization.batch_normalization.BatchNormalization at 0x210da86b950>,\n",
       " <keras.src.layers.core.activation.Activation at 0x210da8011d0>,\n",
       " <keras.src.layers.convolutional.conv2d.Conv2D at 0x210da853a50>,\n",
       " <keras.src.layers.normalization.batch_normalization.BatchNormalization at 0x210da86b3d0>,\n",
       " <keras.src.layers.merging.add.Add at 0x210da84df50>,\n",
       " <keras.src.layers.core.activation.Activation at 0x210da4bbc90>,\n",
       " <keras.src.layers.convolutional.conv2d.Conv2D at 0x210da881110>,\n",
       " <keras.src.layers.normalization.batch_normalization.BatchNormalization at 0x210da88f550>,\n",
       " <keras.src.layers.core.activation.Activation at 0x210da487690>,\n",
       " <keras.src.layers.convolutional.conv2d.Conv2D at 0x210da8a1ed0>,\n",
       " <keras.src.layers.normalization.batch_normalization.BatchNormalization at 0x210da8818d0>,\n",
       " <keras.src.layers.core.activation.Activation at 0x210da89d790>,\n",
       " <keras.src.layers.convolutional.conv2d.Conv2D at 0x210da89d390>,\n",
       " <keras.src.layers.normalization.batch_normalization.BatchNormalization at 0x210da631290>,\n",
       " <keras.src.layers.merging.add.Add at 0x210da8a2910>,\n",
       " <keras.src.layers.core.activation.Activation at 0x210da88f390>,\n",
       " <keras.src.layers.convolutional.conv2d.Conv2D at 0x210da807e50>,\n",
       " <keras.src.layers.normalization.batch_normalization.BatchNormalization at 0x210da74c6d0>,\n",
       " <keras.src.layers.core.activation.Activation at 0x210da7b5590>,\n",
       " <keras.src.layers.convolutional.conv2d.Conv2D at 0x210da810b10>,\n",
       " <keras.src.layers.normalization.batch_normalization.BatchNormalization at 0x210da875f50>,\n",
       " <keras.src.layers.core.activation.Activation at 0x210da877d90>,\n",
       " <keras.src.layers.convolutional.conv2d.Conv2D at 0x210da84c610>,\n",
       " <keras.src.layers.convolutional.conv2d.Conv2D at 0x210da8c2bd0>,\n",
       " <keras.src.layers.normalization.batch_normalization.BatchNormalization at 0x210da680b90>,\n",
       " <keras.src.layers.normalization.batch_normalization.BatchNormalization at 0x210da8c2250>,\n",
       " <keras.src.layers.merging.add.Add at 0x210da882750>,\n",
       " <keras.src.layers.core.activation.Activation at 0x210da8d4e90>,\n",
       " <keras.src.layers.convolutional.conv2d.Conv2D at 0x210da8f2d90>,\n",
       " <keras.src.layers.normalization.batch_normalization.BatchNormalization at 0x210da8e7d50>,\n",
       " <keras.src.layers.core.activation.Activation at 0x210da8c1810>,\n",
       " <keras.src.layers.convolutional.conv2d.Conv2D at 0x210da90b710>,\n",
       " <keras.src.layers.normalization.batch_normalization.BatchNormalization at 0x210da8a1550>,\n",
       " <keras.src.layers.core.activation.Activation at 0x210da90b950>,\n",
       " <keras.src.layers.convolutional.conv2d.Conv2D at 0x210da8fd850>,\n",
       " <keras.src.layers.normalization.batch_normalization.BatchNormalization at 0x210da91aed0>,\n",
       " <keras.src.layers.merging.add.Add at 0x210da91afd0>,\n",
       " <keras.src.layers.core.activation.Activation at 0x210da8f82d0>,\n",
       " <keras.src.layers.convolutional.conv2d.Conv2D at 0x210da8fec50>,\n",
       " <keras.src.layers.normalization.batch_normalization.BatchNormalization at 0x210da8fb6d0>,\n",
       " <keras.src.layers.core.activation.Activation at 0x210da8f0510>,\n",
       " <keras.src.layers.convolutional.conv2d.Conv2D at 0x210da8e4490>,\n",
       " <keras.src.layers.normalization.batch_normalization.BatchNormalization at 0x210da8f2010>,\n",
       " <keras.src.layers.core.activation.Activation at 0x210da8d1410>,\n",
       " <keras.src.layers.convolutional.conv2d.Conv2D at 0x210da86ab50>,\n",
       " <keras.src.layers.normalization.batch_normalization.BatchNormalization at 0x210da86b850>,\n",
       " <keras.src.layers.merging.add.Add at 0x210da8bbe10>,\n",
       " <keras.src.layers.core.activation.Activation at 0x210da880c10>,\n",
       " <keras.src.layers.pooling.global_average_pooling2d.GlobalAveragePooling2D at 0x210da86ac50>]"
      ]
     },
     "execution_count": 9,
     "metadata": {},
     "output_type": "execute_result"
    }
   ],
   "source": [
    "model.layers[0].layers"
   ]
  },
  {
   "cell_type": "code",
   "execution_count": 10,
   "metadata": {},
   "outputs": [],
   "source": [
    "model.layers[0].trainable = False"
   ]
  },
  {
   "cell_type": "code",
   "execution_count": 11,
   "metadata": {},
   "outputs": [
    {
     "name": "stdout",
     "output_type": "stream",
     "text": [
      "Model: \"sequential\"\n",
      "_________________________________________________________________\n",
      " Layer (type)                Output Shape              Param #   \n",
      "=================================================================\n",
      " resnet50 (Functional)       (None, 2048)              23587712  \n",
      "                                                                 \n",
      " dense (Dense)               (None, 3)                 6147      \n",
      "                                                                 \n",
      "=================================================================\n",
      "Total params: 23593859 (90.00 MB)\n",
      "Trainable params: 6147 (24.01 KB)\n",
      "Non-trainable params: 23587712 (89.98 MB)\n",
      "_________________________________________________________________\n"
     ]
    }
   ],
   "source": [
    "model.summary()"
   ]
  },
  {
   "cell_type": "code",
   "execution_count": 12,
   "metadata": {},
   "outputs": [],
   "source": [
    "model.compile(optimizer='adam', loss='categorical_crossentropy', metrics=['accuracy'])"
   ]
  },
  {
   "cell_type": "code",
   "execution_count": 13,
   "metadata": {},
   "outputs": [
    {
     "name": "stdout",
     "output_type": "stream",
     "text": [
      "60\n"
     ]
    }
   ],
   "source": [
    "steps_per_epoch_training = 60\n",
    "steps_per_epoch_validation = 60\n",
    "num_epochs = 30\n",
    "print (steps_per_epoch_validation)"
   ]
  },
  {
   "cell_type": "code",
   "execution_count": 15,
   "metadata": {},
   "outputs": [
    {
     "name": "stdout",
     "output_type": "stream",
     "text": [
      "Epoch 1/30\n",
      "39/60 [==================>...........] - ETA: 6s - loss: 0.5686 - accuracy: 0.7641"
     ]
    },
    {
     "name": "stderr",
     "output_type": "stream",
     "text": [
      "c:\\Users\\user\\.pyenv\\pyenv-win\\versions\\3.11.6\\Lib\\site-packages\\PIL\\Image.py:975: UserWarning: Palette images with Transparency expressed in bytes should be converted to RGBA images\n",
      "  warnings.warn(\n"
     ]
    },
    {
     "name": "stdout",
     "output_type": "stream",
     "text": [
      "60/60 [==============================] - ETA: 0s - loss: 0.4696 - accuracy: 0.8200WARNING:tensorflow:Your input ran out of data; interrupting training. Make sure that your dataset or generator can generate at least `steps_per_epoch * epochs` batches (in this case, 60 batches). You may need to use the repeat() function when building your dataset.\n",
      "60/60 [==============================] - 27s 454ms/step - loss: 0.4696 - accuracy: 0.8200 - val_loss: 0.2093 - val_accuracy: 0.9310\n",
      "Epoch 2/30\n",
      "60/60 [==============================] - 18s 298ms/step - loss: 0.2601 - accuracy: 0.9027\n",
      "Epoch 3/30\n",
      "60/60 [==============================] - 18s 298ms/step - loss: 0.1886 - accuracy: 0.9333\n",
      "Epoch 4/30\n",
      "60/60 [==============================] - 19s 322ms/step - loss: 0.1394 - accuracy: 0.9597\n",
      "Epoch 5/30\n",
      "60/60 [==============================] - 20s 328ms/step - loss: 0.0843 - accuracy: 0.9800\n",
      "Epoch 6/30\n",
      "60/60 [==============================] - 19s 323ms/step - loss: 0.0655 - accuracy: 0.9832\n",
      "Epoch 7/30\n",
      "60/60 [==============================] - 20s 325ms/step - loss: 0.0650 - accuracy: 0.9867\n",
      "Epoch 8/30\n",
      "60/60 [==============================] - 21s 344ms/step - loss: 0.0542 - accuracy: 0.9833\n",
      "Epoch 9/30\n",
      "60/60 [==============================] - 22s 363ms/step - loss: 0.0505 - accuracy: 0.9899\n",
      "Epoch 10/30\n",
      "60/60 [==============================] - 21s 342ms/step - loss: 0.0335 - accuracy: 0.9933\n",
      "Epoch 11/30\n",
      "60/60 [==============================] - 23s 381ms/step - loss: 0.0250 - accuracy: 1.0000\n",
      "Epoch 12/30\n",
      "60/60 [==============================] - 22s 371ms/step - loss: 0.0226 - accuracy: 1.0000\n",
      "Epoch 13/30\n",
      "60/60 [==============================] - 21s 350ms/step - loss: 0.0244 - accuracy: 0.9966\n",
      "Epoch 14/30\n",
      "60/60 [==============================] - 19s 323ms/step - loss: 0.0148 - accuracy: 1.0000\n",
      "Epoch 15/30\n",
      "60/60 [==============================] - 22s 361ms/step - loss: 0.0142 - accuracy: 1.0000\n",
      "Epoch 16/30\n",
      "60/60 [==============================] - 19s 319ms/step - loss: 0.0142 - accuracy: 1.0000\n",
      "Epoch 17/30\n",
      "60/60 [==============================] - 19s 312ms/step - loss: 0.0117 - accuracy: 1.0000\n",
      "Epoch 18/30\n",
      "60/60 [==============================] - 18s 300ms/step - loss: 0.0106 - accuracy: 1.0000\n",
      "Epoch 19/30\n",
      "60/60 [==============================] - 19s 322ms/step - loss: 0.0119 - accuracy: 1.0000\n",
      "Epoch 20/30\n",
      "60/60 [==============================] - 20s 337ms/step - loss: 0.0104 - accuracy: 1.0000\n",
      "Epoch 21/30\n",
      "60/60 [==============================] - 19s 320ms/step - loss: 0.0123 - accuracy: 1.0000\n",
      "Epoch 22/30\n",
      "60/60 [==============================] - 20s 340ms/step - loss: 0.0087 - accuracy: 1.0000\n",
      "Epoch 23/30\n",
      "60/60 [==============================] - 22s 363ms/step - loss: 0.0071 - accuracy: 1.0000\n",
      "Epoch 24/30\n",
      "60/60 [==============================] - 21s 342ms/step - loss: 0.0066 - accuracy: 1.0000\n",
      "Epoch 25/30\n",
      "60/60 [==============================] - 19s 325ms/step - loss: 0.0070 - accuracy: 1.0000\n",
      "Epoch 26/30\n",
      "60/60 [==============================] - 20s 327ms/step - loss: 0.0061 - accuracy: 1.0000\n",
      "Epoch 27/30\n",
      "60/60 [==============================] - 19s 318ms/step - loss: 0.0058 - accuracy: 1.0000\n",
      "Epoch 28/30\n",
      "60/60 [==============================] - 21s 353ms/step - loss: 0.0058 - accuracy: 1.0000\n",
      "Epoch 29/30\n",
      "60/60 [==============================] - 19s 312ms/step - loss: 0.0050 - accuracy: 1.0000\n",
      "Epoch 30/30\n",
      "60/60 [==============================] - 18s 300ms/step - loss: 0.0049 - accuracy: 1.0000\n"
     ]
    }
   ],
   "source": [
    "fit_history = model.fit(\n",
    "    train_generator,\n",
    "    steps_per_epoch=steps_per_epoch_training,\n",
    "    epochs=num_epochs,\n",
    "    validation_data=validation_generator,\n",
    "    validation_steps=steps_per_epoch_validation,\n",
    "    verbose=1,\n",
    ")"
   ]
  },
  {
   "cell_type": "code",
   "execution_count": 16,
   "metadata": {},
   "outputs": [],
   "source": [
    "model.save('classifier_resnet_model.keras')"
   ]
  },
  {
   "cell_type": "code",
   "execution_count": null,
   "metadata": {},
   "outputs": [],
   "source": []
  }
 ],
 "metadata": {
  "kernelspec": {
   "display_name": "Python 3 (ipykernel)",
   "language": "python",
   "name": "python3"
  },
  "language_info": {
   "codemirror_mode": {
    "name": "ipython",
    "version": 3
   },
   "file_extension": ".py",
   "mimetype": "text/x-python",
   "name": "python",
   "nbconvert_exporter": "python",
   "pygments_lexer": "ipython3",
   "version": "3.11.6"
  }
 },
 "nbformat": 4,
 "nbformat_minor": 2
}
